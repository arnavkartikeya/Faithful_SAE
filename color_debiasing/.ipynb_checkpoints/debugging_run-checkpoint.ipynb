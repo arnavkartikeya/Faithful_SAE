{
 "cells": [
  {
   "cell_type": "code",
   "execution_count": 1,
   "id": "9b018796",
   "metadata": {},
   "outputs": [],
   "source": [
    "import sys\n",
    "import os\n",
    "import yaml\n",
    "import random\n",
    "import numpy as np\n",
    "from dataclasses import dataclass, asdict\n",
    "\n",
    "# Add project root to path\n",
    "sys.path.append('../../')\n",
    "\n",
    "from tqdm import tqdm\n",
    "from Faithful_SAE.models import Faithful_SAE \n",
    "import torch\n",
    "import torch.nn as nn\n",
    "import torch.nn.functional as F\n",
    "from torch.utils.data import DataLoader\n",
    "\n",
    "from models import ColorMNISTCNN\n",
    "from data import BiasedColorizedMNIST, UnbiasedColorizedMNIST, CNNActivationDatasetWithColors\n",
    "from train_models import train_model, train_cnn_sae_with_color_conditioning\n",
    "from data import create_biased_dataset, create_unbiased_dataset\n",
    "from torch.utils.data import random_split\n"
   ]
  },
  {
   "cell_type": "code",
   "execution_count": 2,
   "id": "dbc2fa8a",
   "metadata": {},
   "outputs": [
    {
     "name": "stdout",
     "output_type": "stream",
     "text": [
      "Loaded 2957 biased images\n",
      "\n",
      "Dataset Statistics:\n",
      "------------------------------\n",
      "Digit 0 (red): 298 images\n",
      "Digit 1 (red): 329 images\n",
      "Digit 2 (red): 298 images\n",
      "Digit 3 (red): 311 images\n",
      "Digit 4 (red): 258 images\n",
      "Digit 5 (green): 258 images\n",
      "Digit 6 (green): 302 images\n",
      "Digit 7 (green): 328 images\n",
      "Digit 8 (green): 282 images\n",
      "Digit 9 (green): 293 images\n",
      "\n",
      "Total red images (digits 0-4): 1494\n",
      "Total green images (digits 5-9): 1463\n",
      "Total images: 2957\n",
      "Loaded 6711 unbiased images\n",
      "\n",
      "Unbiased Dataset Statistics:\n",
      "----------------------------------------\n",
      "Per-digit breakdown:\n",
      "  Digit 0: 321 red, 324 green (total: 645)\n",
      "  Digit 1: 377 red, 392 green (total: 769)\n",
      "  Digit 2: 353 red, 320 green (total: 673)\n",
      "  Digit 3: 350 red, 326 green (total: 676)\n",
      "  Digit 4: 363 red, 315 green (total: 678)\n",
      "  Digit 5: 301 red, 291 green (total: 592)\n",
      "  Digit 6: 322 red, 324 green (total: 646)\n",
      "  Digit 7: 345 red, 360 green (total: 705)\n",
      "  Digit 8: 308 red, 338 green (total: 646)\n",
      "  Digit 9: 332 red, 349 green (total: 681)\n",
      "\n",
      "Overall:\n",
      "  Total red images: 3372\n",
      "  Total green images: 3339\n",
      "  Total images: 6711\n",
      "  Red/Green ratio: 0.50/0.50\n"
     ]
    }
   ],
   "source": [
    "biased_dataset = create_biased_dataset(\"../../colorized-MNIST/training\")\n",
    "unbiased_dataset = create_unbiased_dataset(\"../../colorized-MNIST/testing\")\n",
    "\n",
    "train_size = int(0.8 * len(biased_dataset))\n",
    "val_size = len(biased_dataset) - train_size\n",
    "train_dataset, val_dataset = random_split(biased_dataset, [train_size, val_size])\n",
    "train_unbiased_size = int(0.8 * len(unbiased_dataset))\n",
    "val_unbiased_size = len(unbiased_dataset) - train_unbiased_size\n",
    "unbiased_train_dataset, unbiased_val_dataset = random_split(unbiased_dataset, [train_unbiased_size, val_unbiased_size])\n"
   ]
  },
  {
   "cell_type": "code",
   "execution_count": 3,
   "id": "204f61cf",
   "metadata": {},
   "outputs": [
    {
     "data": {
      "image/png": "[encoded data removed]",
      "text/plain": [
       "<Figure size 1000x1000 with 10 Axes>"
      ]
     },
     "metadata": {},
     "output_type": "display_data"
    }
   ],
   "source": [
    "# display 10 examples from biased dataset at random \n",
    "import matplotlib.pyplot as plt\n",
    "import torch\n",
    "import random\n",
    "\n",
    "plt.figure(figsize=(10, 10))\n",
    "for i in range(10):\n",
    "    img, label, color = biased_dataset[random.randint(0, len(biased_dataset))] # random sample from biased dataset\n",
    "    plt.subplot(2, 5, i+1)\n",
    "    plt.imshow(img.squeeze(0).permute(1, 2, 0).cpu().numpy(), cmap='gray')\n",
    "    plt.title(f\"Label: {label}, Color: {color}\")\n",
    "    plt.axis('off')\n",
    "plt.show()"
   ]
  },
  {
   "cell_type": "code",
   "execution_count": 4,
   "id": "0b35d0ce",
   "metadata": {},
   "outputs": [],
   "source": [
    "# Create data loaders\n",
    "device = 'cuda'\n",
    "train_loader = DataLoader(train_dataset, batch_size=32, shuffle=True)\n",
    "val_loader = DataLoader(val_dataset, batch_size=32, shuffle=False)\n",
    "\n",
    "# --- Train Base CNN Model ---\n",
    "biased_model = ColorMNISTCNN(input_size=28).to(device)"
   ]
  },
  {
   "cell_type": "code",
   "execution_count": 5,
   "id": "94b76333",
   "metadata": {},
   "outputs": [
    {
     "name": "stderr",
     "output_type": "stream",
     "text": [
      "Epoch 1/15 - Training: 100%|██████████| 74/74 [00:01<00:00, 67.45it/s, Loss=1.6711, Acc=19.32%]\n"
     ]
    },
    {
     "name": "stdout",
     "output_type": "stream",
     "text": [
      "Epoch [1/15]:\n",
      "  Train Loss: 1.9010, Train Acc: 19.32%\n",
      "  Val Loss: 1.6138, Val Acc: 25.51%\n",
      "--------------------------------------------------\n"
     ]
    },
    {
     "name": "stderr",
     "output_type": "stream",
     "text": [
      "Epoch 2/15 - Training: 100%|██████████| 74/74 [00:00<00:00, 94.14it/s, Loss=1.3646, Acc=25.29%]\n"
     ]
    },
    {
     "name": "stdout",
     "output_type": "stream",
     "text": [
      "Epoch [2/15]:\n",
      "  Train Loss: 1.6291, Train Acc: 25.29%\n",
      "  Val Loss: 1.4203, Val Acc: 38.01%\n",
      "--------------------------------------------------\n"
     ]
    },
    {
     "name": "stderr",
     "output_type": "stream",
     "text": [
      "Epoch 3/15 - Training: 100%|██████████| 74/74 [00:00<00:00, 96.98it/s, Loss=1.4519, Acc=34.46%]\n"
     ]
    },
    {
     "name": "stdout",
     "output_type": "stream",
     "text": [
      "Epoch [3/15]:\n",
      "  Train Loss: 1.4341, Train Acc: 34.46%\n",
      "  Val Loss: 1.3087, Val Acc: 42.57%\n",
      "--------------------------------------------------\n"
     ]
    },
    {
     "name": "stderr",
     "output_type": "stream",
     "text": [
      "Epoch 4/15 - Training: 100%|██████████| 74/74 [00:00<00:00, 96.32it/s, Loss=1.3217, Acc=42.07%]\n"
     ]
    },
    {
     "name": "stdout",
     "output_type": "stream",
     "text": [
      "Epoch [4/15]:\n",
      "  Train Loss: 1.3303, Train Acc: 42.07%\n",
      "  Val Loss: 1.1394, Val Acc: 62.84%\n",
      "--------------------------------------------------\n"
     ]
    },
    {
     "name": "stderr",
     "output_type": "stream",
     "text": [
      "Epoch 5/15 - Training: 100%|██████████| 74/74 [00:00<00:00, 95.42it/s, Loss=0.7911, Acc=53.32%]\n"
     ]
    },
    {
     "name": "stdout",
     "output_type": "stream",
     "text": [
      "Epoch [5/15]:\n",
      "  Train Loss: 1.1150, Train Acc: 53.32%\n",
      "  Val Loss: 0.8622, Val Acc: 71.11%\n",
      "--------------------------------------------------\n"
     ]
    },
    {
     "name": "stderr",
     "output_type": "stream",
     "text": [
      "Epoch 6/15 - Training: 100%|██████████| 74/74 [00:00<00:00, 98.11it/s, Loss=0.5903, Acc=64.23%]\n"
     ]
    },
    {
     "name": "stdout",
     "output_type": "stream",
     "text": [
      "Epoch [6/15]:\n",
      "  Train Loss: 0.9072, Train Acc: 64.23%\n",
      "  Val Loss: 0.6418, Val Acc: 79.39%\n",
      "--------------------------------------------------\n"
     ]
    },
    {
     "name": "stderr",
     "output_type": "stream",
     "text": [
      "Epoch 7/15 - Training: 100%|██████████| 74/74 [00:00<00:00, 101.79it/s, Loss=0.8418, Acc=68.79%]\n"
     ]
    },
    {
     "name": "stdout",
     "output_type": "stream",
     "text": [
      "Epoch [7/15]:\n",
      "  Train Loss: 0.7826, Train Acc: 68.79%\n",
      "  Val Loss: 0.5594, Val Acc: 81.08%\n",
      "--------------------------------------------------\n"
     ]
    },
    {
     "name": "stderr",
     "output_type": "stream",
     "text": [
      "Epoch 8/15 - Training: 100%|██████████| 74/74 [00:00<00:00, 98.36it/s, Loss=0.4254, Acc=77.34%] \n"
     ]
    },
    {
     "name": "stdout",
     "output_type": "stream",
     "text": [
      "Epoch [8/15]:\n",
      "  Train Loss: 0.6077, Train Acc: 77.34%\n",
      "  Val Loss: 0.4184, Val Acc: 88.18%\n",
      "--------------------------------------------------\n"
     ]
    },
    {
     "name": "stderr",
     "output_type": "stream",
     "text": [
      "Epoch 9/15 - Training: 100%|██████████| 74/74 [00:00<00:00, 101.00it/s, Loss=0.6346, Acc=80.63%]\n"
     ]
    },
    {
     "name": "stdout",
     "output_type": "stream",
     "text": [
      "Epoch [9/15]:\n",
      "  Train Loss: 0.5346, Train Acc: 80.63%\n",
      "  Val Loss: 0.3715, Val Acc: 86.32%\n",
      "--------------------------------------------------\n"
     ]
    },
    {
     "name": "stderr",
     "output_type": "stream",
     "text": [
      "Epoch 10/15 - Training: 100%|██████████| 74/74 [00:00<00:00, 95.92it/s, Loss=0.3724, Acc=83.30%] \n"
     ]
    },
    {
     "name": "stdout",
     "output_type": "stream",
     "text": [
      "Epoch [10/15]:\n",
      "  Train Loss: 0.4543, Train Acc: 83.30%\n",
      "  Val Loss: 0.3038, Val Acc: 89.53%\n",
      "--------------------------------------------------\n"
     ]
    },
    {
     "name": "stderr",
     "output_type": "stream",
     "text": [
      "Epoch 11/15 - Training: 100%|██████████| 74/74 [00:00<00:00, 98.05it/s, Loss=0.5895, Acc=85.16%] \n"
     ]
    },
    {
     "name": "stdout",
     "output_type": "stream",
     "text": [
      "Epoch [11/15]:\n",
      "  Train Loss: 0.4165, Train Acc: 85.16%\n",
      "  Val Loss: 0.2666, Val Acc: 91.05%\n",
      "--------------------------------------------------\n"
     ]
    },
    {
     "name": "stderr",
     "output_type": "stream",
     "text": [
      "Epoch 12/15 - Training: 100%|██████████| 74/74 [00:00<00:00, 98.19it/s, Loss=0.6952, Acc=86.13%] \n"
     ]
    },
    {
     "name": "stdout",
     "output_type": "stream",
     "text": [
      "Epoch [12/15]:\n",
      "  Train Loss: 0.4041, Train Acc: 86.13%\n",
      "  Val Loss: 0.2443, Val Acc: 90.71%\n",
      "--------------------------------------------------\n"
     ]
    },
    {
     "name": "stderr",
     "output_type": "stream",
     "text": [
      "Epoch 13/15 - Training: 100%|██████████| 74/74 [00:00<00:00, 98.50it/s, Loss=0.4218, Acc=87.78%]\n"
     ]
    },
    {
     "name": "stdout",
     "output_type": "stream",
     "text": [
      "Epoch [13/15]:\n",
      "  Train Loss: 0.3553, Train Acc: 87.78%\n",
      "  Val Loss: 0.2506, Val Acc: 90.54%\n",
      "--------------------------------------------------\n"
     ]
    },
    {
     "name": "stderr",
     "output_type": "stream",
     "text": [
      "Epoch 14/15 - Training: 100%|██████████| 74/74 [00:00<00:00, 100.68it/s, Loss=0.1438, Acc=86.89%]\n"
     ]
    },
    {
     "name": "stdout",
     "output_type": "stream",
     "text": [
      "Epoch [14/15]:\n",
      "  Train Loss: 0.3557, Train Acc: 86.89%\n",
      "  Val Loss: 0.2256, Val Acc: 92.40%\n",
      "--------------------------------------------------\n"
     ]
    },
    {
     "name": "stderr",
     "output_type": "stream",
     "text": [
      "Epoch 15/15 - Training: 100%|██████████| 74/74 [00:00<00:00, 98.57it/s, Loss=0.2834, Acc=87.57%] \n"
     ]
    },
    {
     "name": "stdout",
     "output_type": "stream",
     "text": [
      "Epoch [15/15]:\n",
      "  Train Loss: 0.3537, Train Acc: 87.57%\n",
      "  Val Loss: 0.2453, Val Acc: 91.72%\n",
      "--------------------------------------------------\n"
     ]
    },
    {
     "data": {
      "text/plain": [
       "([1.901003304365519,\n",
       "  1.6290660049464252,\n",
       "  1.4341305445980381,\n",
       "  1.3302547722249418,\n",
       "  1.1149541171821389,\n",
       "  0.907157367145693,\n",
       "  0.7826304407538595,\n",
       "  0.6077422020403115,\n",
       "  0.5345994902623666,\n",
       "  0.45432470316017,\n",
       "  0.41647199058049433,\n",
       "  0.4041280853184494,\n",
       "  0.3553485181686041,\n",
       "  0.35567099258706375,\n",
       "  0.3536929646255197],\n",
       " [1.6137717460331165,\n",
       "  1.4202510934127004,\n",
       "  1.308656937197635,\n",
       "  1.1394419293654592,\n",
       "  0.8622332936839053,\n",
       "  0.6418474693047372,\n",
       "  0.5593744030124262,\n",
       "  0.4184495093006837,\n",
       "  0.3715011775493622,\n",
       "  0.3037607003199427,\n",
       "  0.2665907073962061,\n",
       "  0.24433578041039014,\n",
       "  0.2505656547452274,\n",
       "  0.22563274596866809,\n",
       "  0.24534217974073008],\n",
       " [19.323467230443974,\n",
       "  25.28541226215645,\n",
       "  34.46088794926004,\n",
       "  42.07188160676533,\n",
       "  53.31923890063425,\n",
       "  64.22832980972515,\n",
       "  68.79492600422833,\n",
       "  77.33615221987316,\n",
       "  80.63424947145877,\n",
       "  83.29809725158562,\n",
       "  85.15856236786469,\n",
       "  86.13107822410149,\n",
       "  87.78012684989429,\n",
       "  86.89217758985201,\n",
       "  87.56871035940803],\n",
       " [25.506756756756758,\n",
       "  38.00675675675676,\n",
       "  42.567567567567565,\n",
       "  62.83783783783784,\n",
       "  71.11486486486487,\n",
       "  79.39189189189189,\n",
       "  81.08108108108108,\n",
       "  88.17567567567568,\n",
       "  86.31756756756756,\n",
       "  89.52702702702703,\n",
       "  91.04729729729729,\n",
       "  90.70945945945945,\n",
       "  90.54054054054055,\n",
       "  92.39864864864865,\n",
       "  91.72297297297297])"
      ]
     },
     "execution_count": 5,
     "metadata": {},
     "output_type": "execute_result"
    }
   ],
   "source": [
    "train_model(biased_model, train_loader, val_loader, num_epochs=15, learning_rate=1e-3, device=device)\n"
   ]
  },
  {
   "cell_type": "code",
   "execution_count": 6,
   "id": "dc465536",
   "metadata": {},
   "outputs": [
    {
     "name": "stdout",
     "output_type": "stream",
     "text": [
      "Accuracy: 0.4720774385703649\n"
     ]
    }
   ],
   "source": [
    "correct = 0\n",
    "total = 0 \n",
    "for img, label, color in unbiased_val_dataset: \n",
    "    batch = img.unsqueeze(0).to(device) \n",
    "    out = biased_model(batch)\n",
    "    pred = torch.argmax(out, dim=-1)\n",
    "    if pred == label:\n",
    "        correct +=1     \n",
    "    total +=1\n",
    "\n",
    "print(f\"Accuracy: {correct/total}\")\n"
   ]
  },
  {
   "cell_type": "code",
   "execution_count": 7,
   "id": "92f72e79",
   "metadata": {},
   "outputs": [],
   "source": [
    "sae_color = Faithful_SAE(input_dim=128, latent_dim=512, hidden_dim=64, k=32, use_topk=True).to(device)"
   ]
  },
  {
   "cell_type": "code",
   "execution_count": 8,
   "id": "9a7a2a30",
   "metadata": {},
   "outputs": [
    {
     "name": "stderr",
     "output_type": "stream",
     "text": [
      "Extracting activations with string colors: 100%|██████████| 27/27 [00:01<00:00, 18.17it/s]\n"
     ]
    }
   ],
   "source": [
    "activation_dataset = CNNActivationDatasetWithColors(\n",
    "    model=biased_model,\n",
    "    biased_dataset=unbiased_dataset,\n",
    "    device=device\n",
    ")"
   ]
  },
  {
   "cell_type": "code",
   "execution_count": 9,
   "id": "658db752",
   "metadata": {},
   "outputs": [
    {
     "name": "stderr",
     "output_type": "stream",
     "text": [
      "Training SAE with Color Conditioning: 100%|██████████| 15000/15000 [01:21<00:00, 185.06it/s, green=0.0002, recon=0.0053, red=0.0002]\n"
     ]
    }
   ],
   "source": [
    "target_weights = biased_model.fc1.weight.data.T.to(device)\n",
    "params = {\n",
    "    'l1_lam': 0.1,\n",
    "    'recon_lam': 1.0,\n",
    "    'cond_lam': 1.0,\n",
    "    'faithful_lam': 2.0,\n",
    "    'sae_lr': 1e-3,\n",
    "    'batch_size': 512,\n",
    "    'color_loss_weight': 2.0\n",
    "}\n",
    "\n",
    "    # l1_lam = params['l1_lam']\n",
    "    # recon_lam = params['recon_lam'] \n",
    "    # cond_lam = params['cond_lam'] \n",
    "    # faithful_lam = params['faithful_lam'] \n",
    "    \n",
    "training_losses = train_cnn_sae_with_color_conditioning(\n",
    "    sae=sae_color,\n",
    "    dataset=activation_dataset,\n",
    "    target_weights=target_weights,\n",
    "    device=device,\n",
    "    steps=15000, # Or your desired number of steps\n",
    "    lr=1e-3,\n",
    "    batch_size=512,\n",
    "    params=params # Hyperparameter to balance the conditioning\n",
    ")"
   ]
  },
  {
   "cell_type": "code",
   "execution_count": 10,
   "id": "f13b7c97",
   "metadata": {},
   "outputs": [],
   "source": [
    "def create_ablated_model(original_model, sae, indices_to_ablate, device):\n",
    "    \"\"\"\n",
    "    Creates a new model where the FC1 layer is replaced by the SAE's effective\n",
    "    encoder minus the components at the specified indices.\n",
    "    \"\"\"\n",
    "    # Create a deep copy to avoid altering the original model\n",
    "    ablated_model = type(original_model)()\n",
    "    ablated_model.load_state_dict(original_model.state_dict())\n",
    "    \n",
    "    with torch.no_grad():\n",
    "        effective_encoder = sae.effective_encoder().to(device)\n",
    "        components = sae.components().to(device)\n",
    "        \n",
    "        # Sum the components to be removed\n",
    "        ablated_sum = torch.sum(components[indices_to_ablate], dim=0)\n",
    "        \n",
    "        # New weights are the effective encoder minus the ablated components\n",
    "        ablated_weights = effective_encoder - ablated_sum\n",
    "        \n",
    "        # FC1 layer expects weights of shape [out_features, in_features]\n",
    "        ablated_model.fc1.weight.data = ablated_weights.T.clone()\n",
    "    \n",
    "    ablated_model.to(device)\n",
    "    return ablated_model"
   ]
  },
  {
   "cell_type": "code",
   "execution_count": 11,
   "id": "c22110e7",
   "metadata": {},
   "outputs": [],
   "source": [
    "ablated_model = create_ablated_model(biased_model, sae_color, [0, 1], device)"
   ]
  },
  {
   "cell_type": "code",
   "execution_count": 12,
   "id": "2e7cb74b",
   "metadata": {},
   "outputs": [
    {
     "name": "stdout",
     "output_type": "stream",
     "text": [
      "Accuracy: 0.4274013402829486\n"
     ]
    }
   ],
   "source": [
    "correct = 0\n",
    "total = 0 \n",
    "for img, label, color in unbiased_val_dataset: \n",
    "    batch = img.unsqueeze(0).to(device) \n",
    "    out = ablated_model(batch)\n",
    "    pred = torch.argmax(out, dim=-1)\n",
    "    if pred == label:\n",
    "        correct +=1     \n",
    "    total +=1\n",
    "\n",
    "print(f\"Accuracy: {correct/total}\")\n"
   ]
  },
  {
   "cell_type": "code",
   "execution_count": 13,
   "id": "e3136964",
   "metadata": {},
   "outputs": [
    {
     "name": "stdout",
     "output_type": "stream",
     "text": [
      "/workspace/Faithful_SAE/color_debiasing\n"
     ]
    }
   ],
   "source": [
    "! pwd"
   ]
  },
  {
   "cell_type": "code",
   "execution_count": 14,
   "id": "9d02fab1",
   "metadata": {},
   "outputs": [
    {
     "name": "stderr",
     "output_type": "stream",
     "text": [
      "/tmp/ipykernel_741802/617116622.py:5: FutureWarning: You are using `torch.load` with `weights_only=False` (the current default value), which uses the default pickle module implicitly. It is possible to construct malicious pickle data which will execute arbitrary code during unpickling (See https://github.com/pytorch/pytorch/blob/main/SECURITY.md#untrusted-models for more details). In a future release, the default value for `weights_only` will be flipped to `True`. This limits the functions that could be executed during unpickling. Arbitrary objects will no longer be allowed to be loaded via this mode unless they are explicitly allowlisted by the user via `torch.serialization.add_safe_globals`. We recommend you start setting `weights_only=True` for any use case where you don't have full control of the loaded file. Please open an issue on GitHub for any issues related to this experimental feature.\n",
      "  cnn.load_state_dict(torch.load(\"best_run_artifacts/cnn_model.pth\"))\n",
      "/tmp/ipykernel_741802/617116622.py:9: FutureWarning: You are using `torch.load` with `weights_only=False` (the current default value), which uses the default pickle module implicitly. It is possible to construct malicious pickle data which will execute arbitrary code during unpickling (See https://github.com/pytorch/pytorch/blob/main/SECURITY.md#untrusted-models for more details). In a future release, the default value for `weights_only` will be flipped to `True`. This limits the functions that could be executed during unpickling. Arbitrary objects will no longer be allowed to be loaded via this mode unless they are explicitly allowlisted by the user via `torch.serialization.add_safe_globals`. We recommend you start setting `weights_only=True` for any use case where you don't have full control of the loaded file. Please open an issue on GitHub for any issues related to this experimental feature.\n",
      "  sae.load_state_dict(torch.load(\"best_run_artifacts/sae_color.pth\"))\n"
     ]
    },
    {
     "name": "stdout",
     "output_type": "stream",
     "text": [
      "Accuracy: 0.91734921816828\n"
     ]
    }
   ],
   "source": [
    "sae = Faithful_SAE(input_dim=128, latent_dim=1024, hidden_dim=64, k=128, use_topk=True).to(device)\n",
    "\n",
    "cnn = ColorMNISTCNN(input_size=28).to(device)\n",
    "\n",
    "cnn.load_state_dict(torch.load(\"best_run_artifacts/cnn_model.pth\"))\n",
    "\n",
    "cnn.eval()\n",
    "\n",
    "sae.load_state_dict(torch.load(\"best_run_artifacts/sae_color.pth\"))\n",
    "\n",
    "sae.eval()\n",
    "\n",
    "correct = 0\n",
    "total = 0 \n",
    "\n",
    "ablated_model = create_ablated_model(cnn, sae, [0,1], device)\n",
    "\n",
    "for img, label, color in unbiased_val_dataset: \n",
    "    batch = img.unsqueeze(0).to(device) \n",
    "    out = ablated_model(batch)\n",
    "    pred = torch.argmax(out, dim=-1)\n",
    "    if pred == label:\n",
    "        correct +=1     \n",
    "    total +=1\n",
    "\n",
    "print(f\"Accuracy: {correct/total}\")"
   ]
  },
  {
   "cell_type": "code",
   "execution_count": 17,
   "id": "f28d56d9",
   "metadata": {},
   "outputs": [
    {
     "name": "stdout",
     "output_type": "stream",
     "text": [
      "Accuracy: 0.9329858525688757\n"
     ]
    }
   ],
   "source": [
    "for img, label, color in unbiased_val_dataset: \n",
    "    batch = img.unsqueeze(0).to(device) \n",
    "    out = cnn(batch)\n",
    "    pred = torch.argmax(out, dim=-1)\n",
    "    if pred == label:\n",
    "        correct +=1     \n",
    "    total +=1\n",
    "\n",
    "print(f\"Accuracy: {correct/total}\")"
   ]
  },
  {
   "cell_type": "code",
   "execution_count": 15,
   "id": "a15e7c9f",
   "metadata": {},
   "outputs": [
    {
     "data": {
      "image/png": "[encoded data removed]",
      "text/plain": [
       "<Figure size 1000x1000 with 10 Axes>"
      ]
     },
     "metadata": {},
     "output_type": "display_data"
    }
   ],
   "source": [
    "# display 10 examples from biased dataset at random \n",
    "import matplotlib.pyplot as plt\n",
    "import torch\n",
    "import random\n",
    "\n",
    "plt.figure(figsize=(10, 10))\n",
    "for i in range(10):\n",
    "    img, label, color = unbiased_dataset[random.randint(0, len(biased_dataset))] # random sample from biased dataset\n",
    "    plt.subplot(2, 5, i+1)\n",
    "    plt.imshow(img.squeeze(0).permute(1, 2, 0).cpu().numpy(), cmap='gray')\n",
    "    plt.title(f\"Label: {label}, Color: {color}\")\n",
    "    plt.axis('off')\n",
    "plt.show()"
   ]
  },
  {
   "cell_type": "code",
   "execution_count": 16,
   "id": "b6ffb675",
   "metadata": {},
   "outputs": [
    {
     "name": "stderr",
     "output_type": "stream",
     "text": [
      "/tmp/ipykernel_741802/902425217.py:9: FutureWarning: You are using `torch.load` with `weights_only=False` (the current default value), which uses the default pickle module implicitly. It is possible to construct malicious pickle data which will execute arbitrary code during unpickling (See https://github.com/pytorch/pytorch/blob/main/SECURITY.md#untrusted-models for more details). In a future release, the default value for `weights_only` will be flipped to `True`. This limits the functions that could be executed during unpickling. Arbitrary objects will no longer be allowed to be loaded via this mode unless they are explicitly allowlisted by the user via `torch.serialization.add_safe_globals`. We recommend you start setting `weights_only=True` for any use case where you don't have full control of the loaded file. Please open an issue on GitHub for any issues related to this experimental feature.\n",
      "  cnn.load_state_dict(torch.load(\"best_run_artifacts/cnn_model.pth\"))\n",
      "/tmp/ipykernel_741802/902425217.py:13: FutureWarning: You are using `torch.load` with `weights_only=False` (the current default value), which uses the default pickle module implicitly. It is possible to construct malicious pickle data which will execute arbitrary code during unpickling (See https://github.com/pytorch/pytorch/blob/main/SECURITY.md#untrusted-models for more details). In a future release, the default value for `weights_only` will be flipped to `True`. This limits the functions that could be executed during unpickling. Arbitrary objects will no longer be allowed to be loaded via this mode unless they are explicitly allowlisted by the user via `torch.serialization.add_safe_globals`. We recommend you start setting `weights_only=True` for any use case where you don't have full control of the loaded file. Please open an issue on GitHub for any issues related to this experimental feature.\n",
      "  sae.load_state_dict(torch.load(\"best_run_artifacts/sae_color.pth\"))\n"
     ]
    },
    {
     "name": "stdout",
     "output_type": "stream",
     "text": [
      "============================================================\n",
      "PARTITION ACCURACIES\n",
      "============================================================\n",
      "Red Low     :  332/341  ( 97.4%)\n",
      "Red High    :  302/333  ( 90.7%)\n",
      "Green Low   :  324/333  ( 97.3%)\n",
      "Green High  :  314/336  ( 93.5%)\n",
      "Overall     : 1272/1343 ( 94.7%)\n",
      "============================================================\n"
     ]
    },
    {
     "data": {
      "image/png": "[encoded data removed]",
      "text/plain": [
       "<Figure size 1800x1200 with 24 Axes>"
      ]
     },
     "metadata": {},
     "output_type": "display_data"
    },
    {
     "name": "stdout",
     "output_type": "stream",
     "text": [
      "\n",
      "SUMMARY:\n",
      "Overall Accuracy: 1272/1343 (94.7%)\n",
      "Low Digits Color Bias: 0.001 (|0.974 - 0.973|)\n",
      "High Digits Color Bias: 0.028 (|0.907 - 0.935|)\n"
     ]
    }
   ],
   "source": [
    "import matplotlib.pyplot as plt\n",
    "import numpy as np\n",
    "from collections import defaultdict\n",
    "\n",
    "sae = Faithful_SAE(input_dim=128, latent_dim=1024, hidden_dim=64, k=128, use_topk=True).to(device)\n",
    "\n",
    "cnn = ColorMNISTCNN(input_size=28).to(device)\n",
    "\n",
    "cnn.load_state_dict(torch.load(\"best_run_artifacts/cnn_model.pth\"))\n",
    "\n",
    "cnn.eval()\n",
    "\n",
    "sae.load_state_dict(torch.load(\"best_run_artifacts/sae_color.pth\"))\n",
    "\n",
    "sae.eval()\n",
    "\n",
    "# Initialize partition tracking\n",
    "partitions = {\n",
    "    'red_low': {'correct': 0, 'total': 0},\n",
    "    'red_high': {'correct': 0, 'total': 0},\n",
    "    'green_low': {'correct': 0, 'total': 0},\n",
    "    'green_high': {'correct': 0, 'total': 0},\n",
    "    'overall': {'correct': 0, 'total': 0}\n",
    "}\n",
    "\n",
    "# Store examples for visualization\n",
    "examples = defaultdict(list)  # partition -> list of (image, true_label, pred_label, color)\n",
    "max_examples_per_partition = 6\n",
    "\n",
    "ablated_model = create_ablated_model(cnn, sae, [0,1], device)\n",
    "ablated_model.eval()\n",
    "\n",
    "with torch.no_grad():\n",
    "    for img, label, color in unbiased_val_dataset: \n",
    "        batch = img.unsqueeze(0).to(device) \n",
    "        out = ablated_model(batch)\n",
    "        pred = torch.argmax(out, dim=-1).item()\n",
    "        \n",
    "        # Determine partition\n",
    "        digit_label = label\n",
    "        color_str = color\n",
    "        partition_key = f\"{color_str}_{'high' if digit_label >= 5 else 'low'}\"\n",
    "        \n",
    "        # Update accuracy tracking\n",
    "        is_correct = (pred == label)\n",
    "        partitions[partition_key]['correct'] += is_correct\n",
    "        partitions[partition_key]['total'] += 1\n",
    "        partitions['overall']['correct'] += is_correct\n",
    "        partitions['overall']['total'] += 1\n",
    "        \n",
    "        # Store examples for visualization (mix of correct and incorrect)\n",
    "        if len(examples[partition_key]) < max_examples_per_partition:\n",
    "            examples[partition_key].append({\n",
    "                'image': img.cpu(),\n",
    "                'true_label': label,\n",
    "                'pred_label': pred,\n",
    "                'color': color,\n",
    "                'correct': is_correct\n",
    "            })\n",
    "\n",
    "# Print partition accuracies\n",
    "print(\"=\"*60)\n",
    "print(\"PARTITION ACCURACIES\")\n",
    "print(\"=\"*60)\n",
    "for partition, stats in partitions.items():\n",
    "    if stats['total'] > 0:\n",
    "        accuracy = 100 * stats['correct'] / stats['total']\n",
    "        print(f\"{partition.replace('_', ' ').title():<12}: {stats['correct']:>4}/{stats['total']:<4} ({accuracy:>5.1f}%)\")\n",
    "    else:\n",
    "        print(f\"{partition.replace('_', ' ').title():<12}: No samples\")\n",
    "\n",
    "print(\"=\"*60)\n",
    "\n",
    "# Create visualization\n",
    "fig, axes = plt.subplots(4, max_examples_per_partition, figsize=(18, 12))\n",
    "fig.suptitle('Ablated Model Predictions by Partition', fontsize=16, fontweight='bold')\n",
    "\n",
    "partition_names = ['red_low', 'red_high', 'green_low', 'green_high']\n",
    "partition_labels = ['Red Low (0-4)', 'Red High (5-9)', 'Green Low (0-4)', 'Green High (5-9)']\n",
    "\n",
    "for row_idx, (partition, label) in enumerate(zip(partition_names, partition_labels)):\n",
    "    partition_examples = examples[partition]\n",
    "    \n",
    "    for col_idx in range(max_examples_per_partition):\n",
    "        ax = axes[row_idx, col_idx]\n",
    "        \n",
    "        if col_idx < len(partition_examples):\n",
    "            example = partition_examples[col_idx]\n",
    "            \n",
    "            # Convert image to displayable format (assuming it's normalized)\n",
    "            img_display = example['image'].squeeze().permute(1, 2, 0)\n",
    "            \n",
    "            # Handle different image formats\n",
    "            if img_display.shape[2] == 3:  # RGB\n",
    "                img_display = np.clip(img_display.numpy(), 0, 1)\n",
    "            else:  # Grayscale\n",
    "                img_display = img_display[:,:,0].numpy()\n",
    "                \n",
    "            ax.imshow(img_display, cmap='gray' if len(img_display.shape) == 2 else None)\n",
    "            \n",
    "            # Title with prediction info\n",
    "            true_label = example['true_label']\n",
    "            pred_label = example['pred_label']\n",
    "            is_correct = example['correct']\n",
    "            color = example['color']\n",
    "            \n",
    "            title_color = 'green' if is_correct else 'red'\n",
    "            status = '✓' if is_correct else '✗'\n",
    "            \n",
    "            ax.set_title(f'{status} True: {true_label}, Pred: {pred_label}\\n({color})', \n",
    "                        fontsize=10, color=title_color, fontweight='bold')\n",
    "        else:\n",
    "            # Empty subplot if no more examples\n",
    "            ax.text(0.5, 0.5, 'No more\\nexamples', \n",
    "                   ha='center', va='center', fontsize=12, \n",
    "                   transform=ax.transAxes, color='gray')\n",
    "            ax.set_xlim(0, 1)\n",
    "            ax.set_ylim(0, 1)\n",
    "        \n",
    "        ax.set_xticks([])\n",
    "        ax.set_yticks([])\n",
    "        \n",
    "        # Add partition label on the left\n",
    "        if col_idx == 0:\n",
    "            ax.set_ylabel(label, fontsize=12, fontweight='bold', rotation=90, labelpad=20)\n",
    "\n",
    "plt.tight_layout()\n",
    "plt.subplots_adjust(top=0.93, left=0.12)\n",
    "plt.show()\n",
    "\n",
    "# Print summary statistics\n",
    "print(f\"\\nSUMMARY:\")\n",
    "print(f\"Overall Accuracy: {partitions['overall']['correct']}/{partitions['overall']['total']} \"\n",
    "      f\"({100 * partitions['overall']['correct'] / partitions['overall']['total']:.1f}%)\")\n",
    "\n",
    "# Calculate bias metrics\n",
    "if partitions['red_low']['total'] > 0 and partitions['green_low']['total'] > 0:\n",
    "    red_low_acc = partitions['red_low']['correct'] / partitions['red_low']['total']\n",
    "    green_low_acc = partitions['green_low']['correct'] / partitions['green_low']['total']\n",
    "    low_bias = abs(red_low_acc - green_low_acc)\n",
    "    print(f\"Low Digits Color Bias: {low_bias:.3f} (|{red_low_acc:.3f} - {green_low_acc:.3f}|)\")\n",
    "\n",
    "if partitions['red_high']['total'] > 0 and partitions['green_high']['total'] > 0:\n",
    "    red_high_acc = partitions['red_high']['correct'] / partitions['red_high']['total']\n",
    "    green_high_acc = partitions['green_high']['correct'] / partitions['green_high']['total']\n",
    "    high_bias = abs(red_high_acc - green_high_acc)\n",
    "    print(f\"High Digits Color Bias: {high_bias:.3f} (|{red_high_acc:.3f} - {green_high_acc:.3f}|)\")"
   ]
  },
  {
   "cell_type": "code",
   "execution_count": null,
   "id": "9b9e7cde",
   "metadata": {},
   "outputs": [],
   "source": []
  }
 ],
 "metadata": {
  "kernelspec": {
   "display_name": "Python 3",
   "language": "python",
   "name": "python3"
  },
  "language_info": {
   "codemirror_mode": {
    "name": "ipython",
    "version": 3
   },
   "file_extension": ".py",
   "mimetype": "text/x-python",
   "name": "python",
   "nbconvert_exporter": "python",
   "pygments_lexer": "ipython3",
   "version": "3.12.3"
  }
 },
 "nbformat": 4,
 "nbformat_minor": 5
}
